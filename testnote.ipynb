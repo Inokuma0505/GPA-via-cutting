{
 "cells": [
  {
   "cell_type": "code",
   "execution_count": 1,
   "id": "b4732071",
   "metadata": {},
   "outputs": [
    {
     "name": "stdout",
     "output_type": "stream",
     "text": [
      "Set parameter Username\n",
      "Set parameter LicenseID to value 2659505\n",
      "Academic license - for non-commercial use only - expires 2026-04-30\n",
      "Set parameter NonConvex to value 2\n",
      "Gurobi Optimizer version 12.0.3 build v12.0.3rc0 (mac64[arm] - Darwin 24.6.0 24G90)\n",
      "\n",
      "CPU model: Apple M3\n",
      "Thread count: 8 physical cores, 8 logical processors, using up to 8 threads\n",
      "\n",
      "Non-default parameters:\n",
      "NonConvex  2\n",
      "\n",
      "Optimize a model with 0 rows, 2 columns and 0 nonzeros\n",
      "Model fingerprint: 0x13bc1801\n",
      "Model has 1 quadratic constraint\n",
      "Coefficient statistics:\n",
      "  Matrix range     [0e+00, 0e+00]\n",
      "  QMatrix range    [1e+00, 1e+00]\n",
      "  Objective range  [1e+00, 1e+00]\n",
      "  Bounds range     [1e+00, 1e+00]\n",
      "  RHS range        [0e+00, 0e+00]\n",
      "  QRHS range       [1e+00, 1e+00]\n",
      "\n",
      "Continuous model is non-convex -- solving as a MIP\n",
      "\n",
      "Presolve time: 0.00s\n",
      "Presolved: 4 rows, 3 columns, 5 nonzeros\n",
      "Presolved model has 1 bilinear constraint(s)\n",
      "Warning: Model contains variables with very large bounds participating\n",
      "         in product terms.\n",
      "         Presolve was not able to compute smaller bounds for these variables.\n",
      "         Consider bounding these variables or reformulating the model.\n",
      "\n",
      "Variable types: 3 continuous, 0 integer (0 binary)\n",
      "Found heuristic solution: objective 1.0000010\n",
      "\n",
      "Explored 0 nodes (0 simplex iterations) in 0.01 seconds (0.00 work units)\n",
      "Thread count was 8 (of 8 available processors)\n",
      "\n",
      "Solution count 1: 1 \n",
      "\n",
      "Optimal solution found (tolerance 1.00e-04)\n",
      "Best objective 1.000001003314e+00, best bound 1.000001000000e+00, gap 0.0000%\n",
      "x = 1.000001\n",
      "y = 0.999999\n"
     ]
    }
   ],
   "source": [
    "import gurobipy as gp\n",
    "from gurobipy import GRB\n",
    "\n",
    "def main():\n",
    "    m = gp.Model(\"minimize_x_inv\")\n",
    "    m.Params.NonConvex = 2  # 双線形制約を扱うために必須\n",
    "\n",
    "    eps = 1e-6\n",
    "    x = m.addVar(lb=1 + eps, name=\"x\")\n",
    "    y = m.addVar(lb=0, name=\"y\")\n",
    "\n",
    "    m.addConstr(x * y == 1, name=\"inverse\")\n",
    "    m.setObjective(x, GRB.MINIMIZE)\n",
    "\n",
    "    m.optimize()\n",
    "\n",
    "    if m.status == GRB.OPTIMAL:\n",
    "        print(f\"x = {x.X:.6f}\")\n",
    "        print(f\"y = {y.X:.6f}\")\n",
    "    else:\n",
    "        print(f\"Optimal solution was not found (status {m.status}).\")\n",
    "        \n",
    "if __name__ == \"__main__\":\n",
    "    main()"
   ]
  },
  {
   "cell_type": "code",
   "execution_count": null,
   "id": "84bb6880",
   "metadata": {},
   "outputs": [],
   "source": []
  }
 ],
 "metadata": {
  "kernelspec": {
   "display_name": "research-template",
   "language": "python",
   "name": "python3"
  },
  "language_info": {
   "codemirror_mode": {
    "name": "ipython",
    "version": 3
   },
   "file_extension": ".py",
   "mimetype": "text/x-python",
   "name": "python",
   "nbconvert_exporter": "python",
   "pygments_lexer": "ipython3",
   "version": "3.10.13"
  }
 },
 "nbformat": 4,
 "nbformat_minor": 5
}
